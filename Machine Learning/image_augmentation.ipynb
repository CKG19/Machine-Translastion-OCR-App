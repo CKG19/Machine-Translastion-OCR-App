{
 "cells": [
  {
   "cell_type": "code",
   "execution_count": 19,
   "metadata": {},
   "outputs": [],
   "source": [
    "from PIL import Image, ImageFilter, ImageEnhance\n",
    "import random\n",
    "\n",
    "def create_augmented_images(image_path, output_dir):\n",
    "  \"\"\"Creates three augmented versions of an image.\n",
    "\n",
    "  Args:\n",
    "      image_path: Path to the original image file.\n",
    "      output_dir: Directory to save the augmented images.\n",
    "  \"\"\"\n",
    "  # Load the original image\n",
    "  original_image = Image.open(image_path)\n",
    "\n",
    "  # Define augmentation parameters\n",
    "  downscale_factor = 0.5  # Adjust for desired downscale\n",
    "  blur_sigma = 1.2  # Adjust for desired blur strength\n",
    "  brightness = 0.5  # Adjust for brightness adjustment range\n",
    "\n",
    "  # Create and save augmented versions\n",
    "  for i, name in enumerate([\"original\", \"downscaled\", \"blurred_adjusted\", \"brightness_change\"]):\n",
    "    augmented_image = original_image.copy()  # Avoid modifying the original\n",
    "\n",
    "    if name == \"downscaled\":\n",
    "      # Downscale the image\n",
    "      new_size = (int(original_image.width * downscale_factor), int(original_image.height * downscale_factor))\n",
    "      augmented_image = augmented_image.resize(new_size, resample=Image.LANCZOS)\n",
    "    elif name == \"blurred_adjusted\":\n",
    "      # Apply Gaussian blur\n",
    "      augmented_image = augmented_image.filter(ImageFilter.GaussianBlur(blur_sigma))\n",
    "    elif name == \"brightness_change\":\n",
    "      # Apply random brightness and contrast adjustments\n",
    "      augmented_image = ImageEnhance.Brightness(augmented_image).enhance(brightness)\n",
    "\n",
    "\n",
    "    # Save the augmented image\n",
    "    augmented_image.save(f\"{output_dir}/{name}_{i}.jpg\")\n",
    "\n",
    "# Example usage (replace with your paths)\n",
    "image_path = \"test.jpg\"\n",
    "output_dir = \"augmented_image\"\n",
    "create_augmented_images(image_path, output_dir)"
   ]
  }
 ],
 "metadata": {
  "kernelspec": {
   "display_name": "tf-jacob",
   "language": "python",
   "name": "python3"
  },
  "language_info": {
   "codemirror_mode": {
    "name": "ipython",
    "version": 3
   },
   "file_extension": ".py",
   "mimetype": "text/x-python",
   "name": "python",
   "nbconvert_exporter": "python",
   "pygments_lexer": "ipython3",
   "version": "3.9.19"
  }
 },
 "nbformat": 4,
 "nbformat_minor": 2
}
