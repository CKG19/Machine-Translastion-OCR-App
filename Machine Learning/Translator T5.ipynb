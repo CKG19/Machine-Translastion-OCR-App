{
 "cells": [
  {
   "cell_type": "code",
   "execution_count": 1,
   "metadata": {},
   "outputs": [
    {
     "data": {
      "text/plain": [
       "DatasetDict({\n",
       "    test: Dataset({\n",
       "        features: ['translation'],\n",
       "        num_rows: 2000\n",
       "    })\n",
       "    train: Dataset({\n",
       "        features: ['translation'],\n",
       "        num_rows: 1000000\n",
       "    })\n",
       "    validation: Dataset({\n",
       "        features: ['translation'],\n",
       "        num_rows: 2000\n",
       "    })\n",
       "})"
      ]
     },
     "execution_count": 1,
     "metadata": {},
     "output_type": "execute_result"
    }
   ],
   "source": [
    "from datasets import load_dataset\n",
    "raw_datasets = load_dataset(\"Helsinki-NLP/opus-100\", \"en-id\")\n",
    "raw_datasets"
   ]
  },
  {
   "cell_type": "code",
   "execution_count": 1,
   "metadata": {},
   "outputs": [
    {
     "name": "stderr",
     "output_type": "stream",
     "text": [
      "Special tokens have been added in the vocabulary, make sure the associated word embeddings are fine-tuned or trained.\n"
     ]
    }
   ],
   "source": [
    "model_t5 = \"muvazana/flan-t5-base-opus-en-id-id-en\"\n",
    "\n",
    "from transformers import AutoTokenizer\n",
    "tokenizer = AutoTokenizer.from_pretrained(model_t5)"
   ]
  },
  {
   "cell_type": "code",
   "execution_count": 4,
   "metadata": {},
   "outputs": [
    {
     "data": {
      "application/vnd.jupyter.widget-view+json": {
       "model_id": "f51b0231b0204930894d14dd6976af08",
       "version_major": 2,
       "version_minor": 0
      },
      "text/plain": [
       "Map:   0%|          | 0/2000 [00:00<?, ? examples/s]"
      ]
     },
     "metadata": {},
     "output_type": "display_data"
    },
    {
     "name": "stderr",
     "output_type": "stream",
     "text": [
      "c:\\Users\\IBDA\\.conda\\envs\\ta-jacob\\lib\\site-packages\\transformers\\tokenization_utils_base.py:3921: UserWarning: `as_target_tokenizer` is deprecated and will be removed in v5 of Transformers. You can tokenize your labels by using the argument `text_target` of the regular `__call__` method (either in the same call as your input texts if you use the same keyword arguments, or in a separate call.\n",
      "  warnings.warn(\n"
     ]
    },
    {
     "data": {
      "application/vnd.jupyter.widget-view+json": {
       "model_id": "02a4976506bf41799e1f6135f7ee7187",
       "version_major": 2,
       "version_minor": 0
      },
      "text/plain": [
       "Map:   0%|          | 0/1000000 [00:00<?, ? examples/s]"
      ]
     },
     "metadata": {},
     "output_type": "display_data"
    },
    {
     "data": {
      "application/vnd.jupyter.widget-view+json": {
       "model_id": "a21ef3a928fb4952a0755be95b6cd9d6",
       "version_major": 2,
       "version_minor": 0
      },
      "text/plain": [
       "Map:   0%|          | 0/2000 [00:00<?, ? examples/s]"
      ]
     },
     "metadata": {},
     "output_type": "display_data"
    }
   ],
   "source": [
    "def normalize_text(text):\n",
    "    text = text.lower()  # Lowercase\n",
    "    # text = re.sub(r\"[^\\w\\s]\", \"\", text)  # Remove non-alphanumeric characters (except whitespace)\n",
    "    # text = re.sub(r\"\\s+\", \" \", text)  # Replace excess whitespace with single space\n",
    "    return text\n",
    "\n",
    "prefix = \"translate to Indonesia: \"\n",
    "source_lang = \"en\"\n",
    "target_lang = \"id\"\n",
    "def preprocess_function(data):\n",
    "   inputs = [prefix + normalize_text(dt[source_lang]) for dt in data[\"translation\"]]\n",
    "   targets = [normalize_text(dt[target_lang]) for dt in data[\"translation\"]]\n",
    "   model_inputs = tokenizer(inputs, truncation=True)\n",
    "   # Setup the tokenizer for targets\n",
    "   with tokenizer.as_target_tokenizer():\n",
    "       labels = tokenizer(targets, truncation=True)\n",
    "   model_inputs[\"labels\"] = labels[\"input_ids\"]\n",
    "   return model_inputs\n",
    "tokenized_datasets = raw_datasets.map(preprocess_function, batched=True)"
   ]
  },
  {
   "cell_type": "code",
   "execution_count": 5,
   "metadata": {},
   "outputs": [],
   "source": [
    "small_train_dataset = tokenized_datasets[\"train\"].shuffle(seed=42).select(range(500000))\n",
    "small_eval_dataset = tokenized_datasets[\"validation\"].shuffle(seed=42)"
   ]
  },
  {
   "cell_type": "code",
   "execution_count": 2,
   "metadata": {},
   "outputs": [],
   "source": [
    "from transformers import T5ForConditionalGeneration, DataCollatorForSeq2Seq, Seq2SeqTrainingArguments, Seq2SeqTrainer\n",
    "model = T5ForConditionalGeneration.from_pretrained(model_t5)\n",
    "model = model.cuda()"
   ]
  },
  {
   "cell_type": "code",
   "execution_count": 3,
   "metadata": {},
   "outputs": [
    {
     "data": {
      "text/plain": [
       "T5ForConditionalGeneration(\n",
       "  (shared): Embedding(32134, 768)\n",
       "  (encoder): T5Stack(\n",
       "    (embed_tokens): Embedding(32134, 768)\n",
       "    (block): ModuleList(\n",
       "      (0): T5Block(\n",
       "        (layer): ModuleList(\n",
       "          (0): T5LayerSelfAttention(\n",
       "            (SelfAttention): T5Attention(\n",
       "              (q): Linear(in_features=768, out_features=768, bias=False)\n",
       "              (k): Linear(in_features=768, out_features=768, bias=False)\n",
       "              (v): Linear(in_features=768, out_features=768, bias=False)\n",
       "              (o): Linear(in_features=768, out_features=768, bias=False)\n",
       "              (relative_attention_bias): Embedding(32, 12)\n",
       "            )\n",
       "            (layer_norm): T5LayerNorm()\n",
       "            (dropout): Dropout(p=0.1, inplace=False)\n",
       "          )\n",
       "          (1): T5LayerFF(\n",
       "            (DenseReluDense): T5DenseGatedActDense(\n",
       "              (wi_0): Linear(in_features=768, out_features=2048, bias=False)\n",
       "              (wi_1): Linear(in_features=768, out_features=2048, bias=False)\n",
       "              (wo): Linear(in_features=2048, out_features=768, bias=False)\n",
       "              (dropout): Dropout(p=0.1, inplace=False)\n",
       "              (act): NewGELUActivation()\n",
       "            )\n",
       "            (layer_norm): T5LayerNorm()\n",
       "            (dropout): Dropout(p=0.1, inplace=False)\n",
       "          )\n",
       "        )\n",
       "      )\n",
       "      (1-11): 11 x T5Block(\n",
       "        (layer): ModuleList(\n",
       "          (0): T5LayerSelfAttention(\n",
       "            (SelfAttention): T5Attention(\n",
       "              (q): Linear(in_features=768, out_features=768, bias=False)\n",
       "              (k): Linear(in_features=768, out_features=768, bias=False)\n",
       "              (v): Linear(in_features=768, out_features=768, bias=False)\n",
       "              (o): Linear(in_features=768, out_features=768, bias=False)\n",
       "            )\n",
       "            (layer_norm): T5LayerNorm()\n",
       "            (dropout): Dropout(p=0.1, inplace=False)\n",
       "          )\n",
       "          (1): T5LayerFF(\n",
       "            (DenseReluDense): T5DenseGatedActDense(\n",
       "              (wi_0): Linear(in_features=768, out_features=2048, bias=False)\n",
       "              (wi_1): Linear(in_features=768, out_features=2048, bias=False)\n",
       "              (wo): Linear(in_features=2048, out_features=768, bias=False)\n",
       "              (dropout): Dropout(p=0.1, inplace=False)\n",
       "              (act): NewGELUActivation()\n",
       "            )\n",
       "            (layer_norm): T5LayerNorm()\n",
       "            (dropout): Dropout(p=0.1, inplace=False)\n",
       "          )\n",
       "        )\n",
       "      )\n",
       "    )\n",
       "    (final_layer_norm): T5LayerNorm()\n",
       "    (dropout): Dropout(p=0.1, inplace=False)\n",
       "  )\n",
       "  (decoder): T5Stack(\n",
       "    (embed_tokens): Embedding(32134, 768)\n",
       "    (block): ModuleList(\n",
       "      (0): T5Block(\n",
       "        (layer): ModuleList(\n",
       "          (0): T5LayerSelfAttention(\n",
       "            (SelfAttention): T5Attention(\n",
       "              (q): Linear(in_features=768, out_features=768, bias=False)\n",
       "              (k): Linear(in_features=768, out_features=768, bias=False)\n",
       "              (v): Linear(in_features=768, out_features=768, bias=False)\n",
       "              (o): Linear(in_features=768, out_features=768, bias=False)\n",
       "              (relative_attention_bias): Embedding(32, 12)\n",
       "            )\n",
       "            (layer_norm): T5LayerNorm()\n",
       "            (dropout): Dropout(p=0.1, inplace=False)\n",
       "          )\n",
       "          (1): T5LayerCrossAttention(\n",
       "            (EncDecAttention): T5Attention(\n",
       "              (q): Linear(in_features=768, out_features=768, bias=False)\n",
       "              (k): Linear(in_features=768, out_features=768, bias=False)\n",
       "              (v): Linear(in_features=768, out_features=768, bias=False)\n",
       "              (o): Linear(in_features=768, out_features=768, bias=False)\n",
       "            )\n",
       "            (layer_norm): T5LayerNorm()\n",
       "            (dropout): Dropout(p=0.1, inplace=False)\n",
       "          )\n",
       "          (2): T5LayerFF(\n",
       "            (DenseReluDense): T5DenseGatedActDense(\n",
       "              (wi_0): Linear(in_features=768, out_features=2048, bias=False)\n",
       "              (wi_1): Linear(in_features=768, out_features=2048, bias=False)\n",
       "              (wo): Linear(in_features=2048, out_features=768, bias=False)\n",
       "              (dropout): Dropout(p=0.1, inplace=False)\n",
       "              (act): NewGELUActivation()\n",
       "            )\n",
       "            (layer_norm): T5LayerNorm()\n",
       "            (dropout): Dropout(p=0.1, inplace=False)\n",
       "          )\n",
       "        )\n",
       "      )\n",
       "      (1-11): 11 x T5Block(\n",
       "        (layer): ModuleList(\n",
       "          (0): T5LayerSelfAttention(\n",
       "            (SelfAttention): T5Attention(\n",
       "              (q): Linear(in_features=768, out_features=768, bias=False)\n",
       "              (k): Linear(in_features=768, out_features=768, bias=False)\n",
       "              (v): Linear(in_features=768, out_features=768, bias=False)\n",
       "              (o): Linear(in_features=768, out_features=768, bias=False)\n",
       "            )\n",
       "            (layer_norm): T5LayerNorm()\n",
       "            (dropout): Dropout(p=0.1, inplace=False)\n",
       "          )\n",
       "          (1): T5LayerCrossAttention(\n",
       "            (EncDecAttention): T5Attention(\n",
       "              (q): Linear(in_features=768, out_features=768, bias=False)\n",
       "              (k): Linear(in_features=768, out_features=768, bias=False)\n",
       "              (v): Linear(in_features=768, out_features=768, bias=False)\n",
       "              (o): Linear(in_features=768, out_features=768, bias=False)\n",
       "            )\n",
       "            (layer_norm): T5LayerNorm()\n",
       "            (dropout): Dropout(p=0.1, inplace=False)\n",
       "          )\n",
       "          (2): T5LayerFF(\n",
       "            (DenseReluDense): T5DenseGatedActDense(\n",
       "              (wi_0): Linear(in_features=768, out_features=2048, bias=False)\n",
       "              (wi_1): Linear(in_features=768, out_features=2048, bias=False)\n",
       "              (wo): Linear(in_features=2048, out_features=768, bias=False)\n",
       "              (dropout): Dropout(p=0.1, inplace=False)\n",
       "              (act): NewGELUActivation()\n",
       "            )\n",
       "            (layer_norm): T5LayerNorm()\n",
       "            (dropout): Dropout(p=0.1, inplace=False)\n",
       "          )\n",
       "        )\n",
       "      )\n",
       "    )\n",
       "    (final_layer_norm): T5LayerNorm()\n",
       "    (dropout): Dropout(p=0.1, inplace=False)\n",
       "  )\n",
       "  (lm_head): Linear(in_features=768, out_features=32134, bias=False)\n",
       ")"
      ]
     },
     "execution_count": 3,
     "metadata": {},
     "output_type": "execute_result"
    }
   ],
   "source": [
    "model"
   ]
  },
  {
   "cell_type": "code",
   "execution_count": 7,
   "metadata": {},
   "outputs": [
    {
     "name": "stdout",
     "output_type": "stream",
     "text": [
      "freezes 111 layers\n"
     ]
    }
   ],
   "source": [
    "# Freeze all layers except the decoder's last layers (adjust as needed)\n",
    "count = 0\n",
    "for param in model.get_encoder().parameters():\n",
    "    param.requires_grad = False\n",
    "    count+=1\n",
    "\n",
    "print(f\"freezes {count} layers\")"
   ]
  },
  {
   "cell_type": "code",
   "execution_count": 8,
   "metadata": {},
   "outputs": [],
   "source": [
    "args = Seq2SeqTrainingArguments(\n",
    "   f\"flan-t5-base-finetuned-{source_lang}-to-{target_lang}\",\n",
    "   evaluation_strategy = \"epoch\",\n",
    "   save_strategy= \"epoch\",\n",
    "   learning_rate=2e-5,\n",
    "   per_device_train_batch_size=16,\n",
    "   per_device_eval_batch_size=16,\n",
    "   weight_decay=0.01,\n",
    "   save_total_limit=10,\n",
    "   num_train_epochs=10, \n",
    "   predict_with_generate=True,\n",
    "   load_best_model_at_end= True,\n",
    "   gradient_accumulation_steps=2,\n",
    ")"
   ]
  },
  {
   "cell_type": "code",
   "execution_count": 9,
   "metadata": {},
   "outputs": [],
   "source": [
    "data_collator = DataCollatorForSeq2Seq(tokenizer, model=model)"
   ]
  },
  {
   "cell_type": "code",
   "execution_count": 10,
   "metadata": {},
   "outputs": [
    {
     "name": "stderr",
     "output_type": "stream",
     "text": [
      "[nltk_data] Downloading package wordnet to\n",
      "[nltk_data]     C:\\Users\\IBDA\\AppData\\Roaming\\nltk_data...\n",
      "[nltk_data]   Package wordnet is already up-to-date!\n",
      "[nltk_data] Downloading package punkt to\n",
      "[nltk_data]     C:\\Users\\IBDA\\AppData\\Roaming\\nltk_data...\n",
      "[nltk_data]   Package punkt is already up-to-date!\n",
      "[nltk_data] Downloading package omw-1.4 to\n",
      "[nltk_data]     C:\\Users\\IBDA\\AppData\\Roaming\\nltk_data...\n",
      "[nltk_data]   Package omw-1.4 is already up-to-date!\n"
     ]
    }
   ],
   "source": [
    "import numpy as np\n",
    "import evaluate\n",
    "metric = evaluate.load(\"sacrebleu\")\n",
    "meteor = evaluate.load('meteor')\n",
    "\n",
    "def postprocess_text(preds, labels):\n",
    "   preds = [pred.strip() for pred in preds]\n",
    "   labels = [[label.strip()] for label in labels]\n",
    "   return preds, labels\n",
    "\n",
    "def compute_metrics(eval_preds):\n",
    "    preds, labels = eval_preds\n",
    "    if isinstance(preds, tuple):\n",
    "        preds = preds[0]\n",
    "    decoded_preds = tokenizer.batch_decode(preds, skip_special_tokens=True)\n",
    "    # Replace -100 in the labels as we can't decode them.\n",
    "    labels = np.where(labels!= -100, labels, tokenizer.pad_token_id)\n",
    "    decoded_labels = tokenizer.batch_decode(labels, skip_special_tokens=True)\n",
    "    # Some simple post-processing\n",
    "    decoded_preds, decoded_labels = postprocess_text(decoded_preds, decoded_labels)\n",
    "    result = metric.compute(predictions=decoded_preds, references=decoded_labels)\n",
    "    meteor_result = meteor.compute(predictions=decoded_preds, references=decoded_labels)\n",
    "    prediction_lens = [np.count_nonzero(pred!= tokenizer.pad_token_id) for pred in preds]\n",
    "    result = {'bleu' : result['score']}\n",
    "    result[\"gen_len\"] = np.mean(prediction_lens)\n",
    "    result[\"meteor\"] = meteor_result[\"meteor\"]\n",
    "    result = {k: round(v, 4) for k, v in result.items()}\n",
    "    return result"
   ]
  },
  {
   "cell_type": "code",
   "execution_count": 11,
   "metadata": {},
   "outputs": [
    {
     "data": {
      "application/vnd.jupyter.widget-view+json": {
       "model_id": "2f69dbd150ab49919c71be9eb0e81ee2",
       "version_major": 2,
       "version_minor": 0
      },
      "text/plain": [
       "  0%|          | 0/156250 [00:00<?, ?it/s]"
      ]
     },
     "metadata": {},
     "output_type": "display_data"
    },
    {
     "name": "stdout",
     "output_type": "stream",
     "text": [
      "{'loss': 2.4549, 'grad_norm': 1.1310398578643799, 'learning_rate': 2.9904e-05, 'epoch': 0.03}\n",
      "{'loss': 2.2488, 'grad_norm': 1.1083518266677856, 'learning_rate': 2.9808000000000003e-05, 'epoch': 0.06}\n",
      "{'loss': 2.1754, 'grad_norm': 0.8246461153030396, 'learning_rate': 2.9712e-05, 'epoch': 0.1}\n",
      "{'loss': 2.1769, 'grad_norm': 0.9260937571525574, 'learning_rate': 2.9616e-05, 'epoch': 0.13}\n",
      "{'loss': 2.1435, 'grad_norm': 1.0432209968566895, 'learning_rate': 2.9520000000000002e-05, 'epoch': 0.16}\n",
      "{'loss': 2.1402, 'grad_norm': 0.8702430129051208, 'learning_rate': 2.9424e-05, 'epoch': 0.19}\n",
      "{'loss': 2.1034, 'grad_norm': 1.0211282968521118, 'learning_rate': 2.9328e-05, 'epoch': 0.22}\n",
      "{'loss': 2.136, 'grad_norm': 1.281098484992981, 'learning_rate': 2.9232e-05, 'epoch': 0.26}\n",
      "{'loss': 2.0715, 'grad_norm': 0.8594210743904114, 'learning_rate': 2.9136e-05, 'epoch': 0.29}\n",
      "{'loss': 2.0763, 'grad_norm': 1.1602412462234497, 'learning_rate': 2.904e-05, 'epoch': 0.32}\n",
      "{'loss': 2.0613, 'grad_norm': 0.9847328066825867, 'learning_rate': 2.8944e-05, 'epoch': 0.35}\n",
      "{'loss': 2.088, 'grad_norm': 0.8105842471122742, 'learning_rate': 2.8848000000000002e-05, 'epoch': 0.38}\n",
      "{'loss': 2.0754, 'grad_norm': 0.7456699013710022, 'learning_rate': 2.8752000000000002e-05, 'epoch': 0.42}\n",
      "{'loss': 2.0588, 'grad_norm': 1.089313268661499, 'learning_rate': 2.8656e-05, 'epoch': 0.45}\n",
      "{'loss': 2.0467, 'grad_norm': 0.9066590666770935, 'learning_rate': 2.856e-05, 'epoch': 0.48}\n",
      "{'loss': 2.0705, 'grad_norm': 1.134888768196106, 'learning_rate': 2.8464e-05, 'epoch': 0.51}\n",
      "{'loss': 2.0418, 'grad_norm': 0.7734293341636658, 'learning_rate': 2.8368e-05, 'epoch': 0.54}\n",
      "{'loss': 2.0534, 'grad_norm': 0.8758456110954285, 'learning_rate': 2.8272e-05, 'epoch': 0.58}\n",
      "{'loss': 2.0245, 'grad_norm': 1.3964459896087646, 'learning_rate': 2.8176000000000003e-05, 'epoch': 0.61}\n",
      "{'loss': 2.0528, 'grad_norm': 0.7592071294784546, 'learning_rate': 2.8080000000000002e-05, 'epoch': 0.64}\n",
      "{'loss': 2.0168, 'grad_norm': 1.03939688205719, 'learning_rate': 2.7984e-05, 'epoch': 0.67}\n",
      "{'loss': 2.0575, 'grad_norm': 1.3360438346862793, 'learning_rate': 2.7888e-05, 'epoch': 0.7}\n",
      "{'loss': 2.039, 'grad_norm': 1.1870545148849487, 'learning_rate': 2.7792e-05, 'epoch': 0.74}\n",
      "{'loss': 2.0248, 'grad_norm': 0.8812812566757202, 'learning_rate': 2.7696e-05, 'epoch': 0.77}\n",
      "{'loss': 2.0282, 'grad_norm': 0.8487668037414551, 'learning_rate': 2.7600000000000003e-05, 'epoch': 0.8}\n",
      "{'loss': 2.0095, 'grad_norm': 1.230680227279663, 'learning_rate': 2.7504e-05, 'epoch': 0.83}\n",
      "{'loss': 2.0223, 'grad_norm': 0.889396071434021, 'learning_rate': 2.7408e-05, 'epoch': 0.86}\n",
      "{'loss': 1.986, 'grad_norm': 1.1131747961044312, 'learning_rate': 2.7312e-05, 'epoch': 0.9}\n",
      "{'loss': 2.0093, 'grad_norm': 0.9384071826934814, 'learning_rate': 2.7216e-05, 'epoch': 0.93}\n",
      "{'loss': 1.9849, 'grad_norm': 0.9845534563064575, 'learning_rate': 2.712e-05, 'epoch': 0.96}\n",
      "{'loss': 1.9799, 'grad_norm': 0.8900547623634338, 'learning_rate': 2.7024e-05, 'epoch': 0.99}\n"
     ]
    },
    {
     "name": "stderr",
     "output_type": "stream",
     "text": [
      "c:\\Users\\IBDA\\.conda\\envs\\ta-jacob\\lib\\site-packages\\transformers\\generation\\utils.py:1141: UserWarning: Using the model-agnostic default `max_length` (=20) to control the generation length. We recommend setting `max_new_tokens` to control the maximum length of the generation.\n",
      "  warnings.warn(\n"
     ]
    },
    {
     "data": {
      "application/vnd.jupyter.widget-view+json": {
       "model_id": "5d961a73d12a4cd9b60e92f1aea58bcf",
       "version_major": 2,
       "version_minor": 0
      },
      "text/plain": [
       "  0%|          | 0/125 [00:00<?, ?it/s]"
      ]
     },
     "metadata": {},
     "output_type": "display_data"
    },
    {
     "name": "stdout",
     "output_type": "stream",
     "text": [
      "{'eval_loss': 1.8858401775360107, 'eval_bleu': 27.3563, 'eval_gen_len': 9.9795, 'eval_meteor': 0.5302, 'eval_runtime': 42.4156, 'eval_samples_per_second': 47.152, 'eval_steps_per_second': 2.947, 'epoch': 1.0}\n",
      "{'loss': 1.953, 'grad_norm': 1.0595709085464478, 'learning_rate': 2.6928e-05, 'epoch': 1.02}\n",
      "{'loss': 1.9738, 'grad_norm': 1.160923719406128, 'learning_rate': 2.6832e-05, 'epoch': 1.06}\n",
      "{'loss': 1.9876, 'grad_norm': 0.8385946750640869, 'learning_rate': 2.6736e-05, 'epoch': 1.09}\n",
      "{'loss': 1.9811, 'grad_norm': 0.8609998822212219, 'learning_rate': 2.6640000000000002e-05, 'epoch': 1.12}\n",
      "{'loss': 1.9718, 'grad_norm': 1.1049467325210571, 'learning_rate': 2.6544000000000002e-05, 'epoch': 1.15}\n",
      "{'loss': 1.9594, 'grad_norm': 0.8468731641769409, 'learning_rate': 2.6448e-05, 'epoch': 1.18}\n",
      "{'loss': 1.9709, 'grad_norm': 0.9713853597640991, 'learning_rate': 2.6351999999999998e-05, 'epoch': 1.22}\n",
      "{'loss': 1.9754, 'grad_norm': 0.8487265706062317, 'learning_rate': 2.6256e-05, 'epoch': 1.25}\n",
      "{'loss': 1.9974, 'grad_norm': 0.9381592869758606, 'learning_rate': 2.616e-05, 'epoch': 1.28}\n",
      "{'loss': 1.9708, 'grad_norm': 0.7338544726371765, 'learning_rate': 2.6064e-05, 'epoch': 1.31}\n",
      "{'loss': 1.9882, 'grad_norm': 1.1899532079696655, 'learning_rate': 2.5968000000000003e-05, 'epoch': 1.34}\n",
      "{'loss': 1.9451, 'grad_norm': 0.8012766242027283, 'learning_rate': 2.5872000000000002e-05, 'epoch': 1.38}\n",
      "{'loss': 1.9498, 'grad_norm': 0.7801241874694824, 'learning_rate': 2.5776e-05, 'epoch': 1.41}\n",
      "{'loss': 1.9478, 'grad_norm': 0.9682027697563171, 'learning_rate': 2.568e-05, 'epoch': 1.44}\n",
      "{'loss': 1.9621, 'grad_norm': 1.3887813091278076, 'learning_rate': 2.5584e-05, 'epoch': 1.47}\n",
      "{'loss': 1.9629, 'grad_norm': 0.8091603517532349, 'learning_rate': 2.5488e-05, 'epoch': 1.5}\n",
      "{'loss': 1.9514, 'grad_norm': 0.7881114482879639, 'learning_rate': 2.5392000000000004e-05, 'epoch': 1.54}\n",
      "{'loss': 1.9456, 'grad_norm': 1.0461854934692383, 'learning_rate': 2.5296e-05, 'epoch': 1.57}\n",
      "{'loss': 1.9494, 'grad_norm': 1.075804352760315, 'learning_rate': 2.52e-05, 'epoch': 1.6}\n",
      "{'loss': 1.9523, 'grad_norm': 1.0430951118469238, 'learning_rate': 2.5104e-05, 'epoch': 1.63}\n",
      "{'loss': 1.959, 'grad_norm': 1.0571258068084717, 'learning_rate': 2.5008000000000002e-05, 'epoch': 1.66}\n",
      "{'loss': 1.9529, 'grad_norm': 1.0310059785842896, 'learning_rate': 2.4912e-05, 'epoch': 1.7}\n",
      "{'loss': 1.9079, 'grad_norm': 0.9917833805084229, 'learning_rate': 2.4816e-05, 'epoch': 1.73}\n",
      "{'loss': 1.9679, 'grad_norm': 0.9460335969924927, 'learning_rate': 2.472e-05, 'epoch': 1.76}\n",
      "{'loss': 1.966, 'grad_norm': 0.8793620467185974, 'learning_rate': 2.4624e-05, 'epoch': 1.79}\n",
      "{'loss': 1.9304, 'grad_norm': 1.0046985149383545, 'learning_rate': 2.4528e-05, 'epoch': 1.82}\n",
      "{'loss': 1.9527, 'grad_norm': 1.3234957456588745, 'learning_rate': 2.4432000000000003e-05, 'epoch': 1.86}\n",
      "{'loss': 1.9286, 'grad_norm': 0.7709152102470398, 'learning_rate': 2.4336000000000002e-05, 'epoch': 1.89}\n",
      "{'loss': 1.9537, 'grad_norm': 1.112790822982788, 'learning_rate': 2.4240000000000002e-05, 'epoch': 1.92}\n",
      "{'loss': 1.9272, 'grad_norm': 1.0882290601730347, 'learning_rate': 2.4143999999999998e-05, 'epoch': 1.95}\n",
      "{'loss': 1.9233, 'grad_norm': 0.8034412860870361, 'learning_rate': 2.4048e-05, 'epoch': 1.98}\n"
     ]
    },
    {
     "name": "stderr",
     "output_type": "stream",
     "text": [
      "c:\\Users\\IBDA\\.conda\\envs\\ta-jacob\\lib\\site-packages\\transformers\\generation\\utils.py:1141: UserWarning: Using the model-agnostic default `max_length` (=20) to control the generation length. We recommend setting `max_new_tokens` to control the maximum length of the generation.\n",
      "  warnings.warn(\n"
     ]
    },
    {
     "data": {
      "application/vnd.jupyter.widget-view+json": {
       "model_id": "f6486a8107134debb7eea7f32028afdc",
       "version_major": 2,
       "version_minor": 0
      },
      "text/plain": [
       "  0%|          | 0/125 [00:00<?, ?it/s]"
      ]
     },
     "metadata": {},
     "output_type": "display_data"
    },
    {
     "name": "stdout",
     "output_type": "stream",
     "text": [
      "{'eval_loss': 1.8464223146438599, 'eval_bleu': 27.4142, 'eval_gen_len': 9.948, 'eval_meteor': 0.5322, 'eval_runtime': 42.2696, 'eval_samples_per_second': 47.315, 'eval_steps_per_second': 2.957, 'epoch': 2.0}\n",
      "{'loss': 1.9311, 'grad_norm': 0.848031759262085, 'learning_rate': 2.3952e-05, 'epoch': 2.02}\n",
      "{'loss': 1.933, 'grad_norm': 1.025795817375183, 'learning_rate': 2.3856e-05, 'epoch': 2.05}\n",
      "{'loss': 1.9163, 'grad_norm': 0.7403720021247864, 'learning_rate': 2.3760000000000003e-05, 'epoch': 2.08}\n",
      "{'loss': 1.8915, 'grad_norm': 0.7506653666496277, 'learning_rate': 2.3664e-05, 'epoch': 2.11}\n",
      "{'loss': 1.9246, 'grad_norm': 0.8361743092536926, 'learning_rate': 2.3568e-05, 'epoch': 2.14}\n",
      "{'loss': 1.9178, 'grad_norm': 0.7932212948799133, 'learning_rate': 2.3472e-05, 'epoch': 2.18}\n",
      "{'loss': 1.9058, 'grad_norm': 0.7185541987419128, 'learning_rate': 2.3376e-05, 'epoch': 2.21}\n",
      "{'loss': 1.9286, 'grad_norm': 0.8091328740119934, 'learning_rate': 2.328e-05, 'epoch': 2.24}\n",
      "{'loss': 1.8998, 'grad_norm': 1.0989243984222412, 'learning_rate': 2.3184e-05, 'epoch': 2.27}\n",
      "{'loss': 1.9329, 'grad_norm': 1.0247076749801636, 'learning_rate': 2.3088e-05, 'epoch': 2.3}\n",
      "{'loss': 1.9184, 'grad_norm': 0.9260793328285217, 'learning_rate': 2.2992e-05, 'epoch': 2.34}\n",
      "{'loss': 1.9242, 'grad_norm': 0.8951433897018433, 'learning_rate': 2.2896e-05, 'epoch': 2.37}\n",
      "{'loss': 1.9111, 'grad_norm': 0.8272436857223511, 'learning_rate': 2.2800000000000002e-05, 'epoch': 2.4}\n",
      "{'loss': 1.9105, 'grad_norm': 0.7095327377319336, 'learning_rate': 2.2704e-05, 'epoch': 2.43}\n",
      "{'loss': 1.9038, 'grad_norm': 0.8498450517654419, 'learning_rate': 2.2608e-05, 'epoch': 2.46}\n",
      "{'loss': 1.8813, 'grad_norm': 1.096799612045288, 'learning_rate': 2.2512e-05, 'epoch': 2.5}\n",
      "{'loss': 1.9267, 'grad_norm': 1.223373293876648, 'learning_rate': 2.2416e-05, 'epoch': 2.53}\n",
      "{'loss': 1.9144, 'grad_norm': 0.9363265037536621, 'learning_rate': 2.232e-05, 'epoch': 2.56}\n",
      "{'loss': 1.933, 'grad_norm': 0.748820424079895, 'learning_rate': 2.2224e-05, 'epoch': 2.59}\n",
      "{'loss': 1.9042, 'grad_norm': 1.034384846687317, 'learning_rate': 2.2128000000000002e-05, 'epoch': 2.62}\n",
      "{'loss': 1.8971, 'grad_norm': 1.1817021369934082, 'learning_rate': 2.2032000000000002e-05, 'epoch': 2.66}\n",
      "{'loss': 1.9087, 'grad_norm': 0.8303377628326416, 'learning_rate': 2.1935999999999998e-05, 'epoch': 2.69}\n",
      "{'loss': 1.91, 'grad_norm': 1.0711971521377563, 'learning_rate': 2.184e-05, 'epoch': 2.72}\n",
      "{'loss': 1.9107, 'grad_norm': 0.9177998304367065, 'learning_rate': 2.1744e-05, 'epoch': 2.75}\n",
      "{'loss': 1.8966, 'grad_norm': 0.9372798800468445, 'learning_rate': 2.1648e-05, 'epoch': 2.78}\n",
      "{'loss': 1.904, 'grad_norm': 0.8694874048233032, 'learning_rate': 2.1552000000000003e-05, 'epoch': 2.82}\n",
      "{'loss': 1.8856, 'grad_norm': 0.7762089371681213, 'learning_rate': 2.1456e-05, 'epoch': 2.85}\n",
      "{'loss': 1.8948, 'grad_norm': 1.187187910079956, 'learning_rate': 2.136e-05, 'epoch': 2.88}\n",
      "{'loss': 1.924, 'grad_norm': 1.2663710117340088, 'learning_rate': 2.1264000000000002e-05, 'epoch': 2.91}\n",
      "{'loss': 1.892, 'grad_norm': 1.0697126388549805, 'learning_rate': 2.1168e-05, 'epoch': 2.94}\n",
      "{'loss': 1.8777, 'grad_norm': 1.1109079122543335, 'learning_rate': 2.1072e-05, 'epoch': 2.98}\n"
     ]
    },
    {
     "name": "stderr",
     "output_type": "stream",
     "text": [
      "c:\\Users\\IBDA\\.conda\\envs\\ta-jacob\\lib\\site-packages\\transformers\\generation\\utils.py:1141: UserWarning: Using the model-agnostic default `max_length` (=20) to control the generation length. We recommend setting `max_new_tokens` to control the maximum length of the generation.\n",
      "  warnings.warn(\n"
     ]
    },
    {
     "data": {
      "application/vnd.jupyter.widget-view+json": {
       "model_id": "35485235d33c4324b121ce3e4ba7b75b",
       "version_major": 2,
       "version_minor": 0
      },
      "text/plain": [
       "  0%|          | 0/125 [00:00<?, ?it/s]"
      ]
     },
     "metadata": {},
     "output_type": "display_data"
    },
    {
     "name": "stdout",
     "output_type": "stream",
     "text": [
      "{'eval_loss': 1.8245317935943604, 'eval_bleu': 27.4755, 'eval_gen_len': 9.9435, 'eval_meteor': 0.533, 'eval_runtime': 41.4104, 'eval_samples_per_second': 48.297, 'eval_steps_per_second': 3.019, 'epoch': 3.0}\n",
      "{'loss': 1.8969, 'grad_norm': 0.9965289831161499, 'learning_rate': 2.0976e-05, 'epoch': 3.01}\n",
      "{'loss': 1.8527, 'grad_norm': 1.1712647676467896, 'learning_rate': 2.088e-05, 'epoch': 3.04}\n",
      "{'loss': 1.8787, 'grad_norm': 0.9882304072380066, 'learning_rate': 2.0784e-05, 'epoch': 3.07}\n",
      "{'loss': 1.8802, 'grad_norm': 1.1834279298782349, 'learning_rate': 2.0688e-05, 'epoch': 3.1}\n",
      "{'loss': 1.87, 'grad_norm': 0.9025532603263855, 'learning_rate': 2.0592000000000002e-05, 'epoch': 3.14}\n",
      "{'loss': 1.8903, 'grad_norm': 0.8999606966972351, 'learning_rate': 2.0496e-05, 'epoch': 3.17}\n",
      "{'loss': 1.8835, 'grad_norm': 0.7726925015449524, 'learning_rate': 2.04e-05, 'epoch': 3.2}\n",
      "{'loss': 1.8915, 'grad_norm': 0.9964653253555298, 'learning_rate': 2.0304e-05, 'epoch': 3.23}\n",
      "{'loss': 1.8684, 'grad_norm': 0.7260221838951111, 'learning_rate': 2.0208e-05, 'epoch': 3.26}\n",
      "{'loss': 1.8745, 'grad_norm': 0.8023837208747864, 'learning_rate': 2.0112e-05, 'epoch': 3.3}\n",
      "{'loss': 1.892, 'grad_norm': 0.7365036606788635, 'learning_rate': 2.0016e-05, 'epoch': 3.33}\n",
      "{'loss': 1.8828, 'grad_norm': 1.1628997325897217, 'learning_rate': 1.9920000000000002e-05, 'epoch': 3.36}\n",
      "{'loss': 1.8734, 'grad_norm': 0.8297098278999329, 'learning_rate': 1.9824000000000002e-05, 'epoch': 3.39}\n",
      "{'loss': 1.9057, 'grad_norm': 1.0008418560028076, 'learning_rate': 1.9727999999999998e-05, 'epoch': 3.42}\n",
      "{'loss': 1.871, 'grad_norm': 0.9336186647415161, 'learning_rate': 1.9632e-05, 'epoch': 3.46}\n",
      "{'loss': 1.8871, 'grad_norm': 0.8165479302406311, 'learning_rate': 1.9536e-05, 'epoch': 3.49}\n",
      "{'loss': 1.8518, 'grad_norm': 0.86585533618927, 'learning_rate': 1.944e-05, 'epoch': 3.52}\n",
      "{'loss': 1.8907, 'grad_norm': 0.8612220287322998, 'learning_rate': 1.9344000000000003e-05, 'epoch': 3.55}\n",
      "{'loss': 1.8923, 'grad_norm': 0.959560215473175, 'learning_rate': 1.9248e-05, 'epoch': 3.58}\n",
      "{'loss': 1.8884, 'grad_norm': 0.9600385427474976, 'learning_rate': 1.9152e-05, 'epoch': 3.62}\n",
      "{'loss': 1.872, 'grad_norm': 0.8169347047805786, 'learning_rate': 1.9056e-05, 'epoch': 3.65}\n",
      "{'loss': 1.8987, 'grad_norm': 0.7778365015983582, 'learning_rate': 1.896e-05, 'epoch': 3.68}\n",
      "{'loss': 1.8587, 'grad_norm': 1.2588202953338623, 'learning_rate': 1.8864e-05, 'epoch': 3.71}\n",
      "{'loss': 1.8807, 'grad_norm': 1.1696414947509766, 'learning_rate': 1.8768e-05, 'epoch': 3.74}\n",
      "{'loss': 1.8547, 'grad_norm': 0.7935742735862732, 'learning_rate': 1.8672e-05, 'epoch': 3.78}\n",
      "{'loss': 1.8824, 'grad_norm': 0.8676709532737732, 'learning_rate': 1.8576e-05, 'epoch': 3.81}\n",
      "{'loss': 1.8784, 'grad_norm': 0.913867712020874, 'learning_rate': 1.848e-05, 'epoch': 3.84}\n",
      "{'loss': 1.8702, 'grad_norm': 1.13449227809906, 'learning_rate': 1.8384000000000002e-05, 'epoch': 3.87}\n",
      "{'loss': 1.852, 'grad_norm': 0.7048963308334351, 'learning_rate': 1.8288000000000002e-05, 'epoch': 3.9}\n",
      "{'loss': 1.8546, 'grad_norm': 1.0009359121322632, 'learning_rate': 1.8192e-05, 'epoch': 3.94}\n",
      "{'loss': 1.9101, 'grad_norm': 0.8350508213043213, 'learning_rate': 1.8096e-05, 'epoch': 3.97}\n",
      "{'loss': 1.875, 'grad_norm': 1.022394061088562, 'learning_rate': 1.8e-05, 'epoch': 4.0}\n"
     ]
    },
    {
     "name": "stderr",
     "output_type": "stream",
     "text": [
      "c:\\Users\\IBDA\\.conda\\envs\\ta-jacob\\lib\\site-packages\\transformers\\generation\\utils.py:1141: UserWarning: Using the model-agnostic default `max_length` (=20) to control the generation length. We recommend setting `max_new_tokens` to control the maximum length of the generation.\n",
      "  warnings.warn(\n"
     ]
    },
    {
     "data": {
      "application/vnd.jupyter.widget-view+json": {
       "model_id": "87e061126e6d4eda9063e38f61272edd",
       "version_major": 2,
       "version_minor": 0
      },
      "text/plain": [
       "  0%|          | 0/125 [00:00<?, ?it/s]"
      ]
     },
     "metadata": {},
     "output_type": "display_data"
    },
    {
     "name": "stdout",
     "output_type": "stream",
     "text": [
      "{'eval_loss': 1.8095519542694092, 'eval_bleu': 27.5767, 'eval_gen_len': 9.9185, 'eval_meteor': 0.5327, 'eval_runtime': 42.0275, 'eval_samples_per_second': 47.588, 'eval_steps_per_second': 2.974, 'epoch': 4.0}\n",
      "{'loss': 1.8454, 'grad_norm': 1.319183349609375, 'learning_rate': 1.7904e-05, 'epoch': 4.03}\n",
      "{'loss': 1.8569, 'grad_norm': 0.7800212502479553, 'learning_rate': 1.7808e-05, 'epoch': 4.06}\n",
      "{'loss': 1.8553, 'grad_norm': 0.6935482621192932, 'learning_rate': 1.7712000000000003e-05, 'epoch': 4.1}\n",
      "{'loss': 1.8496, 'grad_norm': 0.8049852848052979, 'learning_rate': 1.7616000000000002e-05, 'epoch': 4.13}\n",
      "{'loss': 1.8487, 'grad_norm': 0.948793351650238, 'learning_rate': 1.7519999999999998e-05, 'epoch': 4.16}\n",
      "{'loss': 1.8964, 'grad_norm': 0.8121398091316223, 'learning_rate': 1.7424e-05, 'epoch': 4.19}\n",
      "{'loss': 1.8529, 'grad_norm': 0.8409463763237, 'learning_rate': 1.7328e-05, 'epoch': 4.22}\n",
      "{'loss': 1.8631, 'grad_norm': 0.9141714572906494, 'learning_rate': 1.7232e-05, 'epoch': 4.26}\n",
      "{'loss': 1.8658, 'grad_norm': 0.8362019062042236, 'learning_rate': 1.7136000000000003e-05, 'epoch': 4.29}\n",
      "{'loss': 1.8567, 'grad_norm': 1.3218811750411987, 'learning_rate': 1.704e-05, 'epoch': 4.32}\n",
      "{'loss': 1.8508, 'grad_norm': 0.9920868873596191, 'learning_rate': 1.6944e-05, 'epoch': 4.35}\n",
      "{'loss': 1.8629, 'grad_norm': 0.8903279304504395, 'learning_rate': 1.6848e-05, 'epoch': 4.38}\n",
      "{'loss': 1.8328, 'grad_norm': 1.063877820968628, 'learning_rate': 1.6752e-05, 'epoch': 4.42}\n",
      "{'loss': 1.854, 'grad_norm': 0.8309027552604675, 'learning_rate': 1.6656e-05, 'epoch': 4.45}\n",
      "{'loss': 1.853, 'grad_norm': 0.7684311866760254, 'learning_rate': 1.656e-05, 'epoch': 4.48}\n",
      "{'loss': 1.8593, 'grad_norm': 1.1606619358062744, 'learning_rate': 1.6464e-05, 'epoch': 4.51}\n",
      "{'loss': 1.8468, 'grad_norm': 0.8431769013404846, 'learning_rate': 1.6368e-05, 'epoch': 4.54}\n",
      "{'loss': 1.8477, 'grad_norm': 0.8694857954978943, 'learning_rate': 1.6272e-05, 'epoch': 4.58}\n",
      "{'loss': 1.8611, 'grad_norm': 1.0198911428451538, 'learning_rate': 1.6176000000000002e-05, 'epoch': 4.61}\n",
      "{'loss': 1.8747, 'grad_norm': 0.8836784362792969, 'learning_rate': 1.6080000000000002e-05, 'epoch': 4.64}\n",
      "{'loss': 1.8517, 'grad_norm': 0.9134698510169983, 'learning_rate': 1.5984e-05, 'epoch': 4.67}\n",
      "{'loss': 1.8746, 'grad_norm': 1.0631871223449707, 'learning_rate': 1.5887999999999998e-05, 'epoch': 4.7}\n",
      "{'loss': 1.8584, 'grad_norm': 1.2931292057037354, 'learning_rate': 1.5792e-05, 'epoch': 4.74}\n",
      "{'loss': 1.8569, 'grad_norm': 1.0580631494522095, 'learning_rate': 1.5696e-05, 'epoch': 4.77}\n",
      "{'loss': 1.8442, 'grad_norm': 0.744300127029419, 'learning_rate': 1.56e-05, 'epoch': 4.8}\n",
      "{'loss': 1.8585, 'grad_norm': 0.8633952736854553, 'learning_rate': 1.5504000000000003e-05, 'epoch': 4.83}\n",
      "{'loss': 1.851, 'grad_norm': 1.3194862604141235, 'learning_rate': 1.5408e-05, 'epoch': 4.86}\n",
      "{'loss': 1.8588, 'grad_norm': 1.416203498840332, 'learning_rate': 1.5312e-05, 'epoch': 4.9}\n",
      "{'loss': 1.8322, 'grad_norm': 0.9891691207885742, 'learning_rate': 1.5216e-05, 'epoch': 4.93}\n",
      "{'loss': 1.8336, 'grad_norm': 0.9604517817497253, 'learning_rate': 1.5120000000000001e-05, 'epoch': 4.96}\n",
      "{'loss': 1.8552, 'grad_norm': 0.9467683434486389, 'learning_rate': 1.5024e-05, 'epoch': 4.99}\n"
     ]
    },
    {
     "name": "stderr",
     "output_type": "stream",
     "text": [
      "c:\\Users\\IBDA\\.conda\\envs\\ta-jacob\\lib\\site-packages\\transformers\\generation\\utils.py:1141: UserWarning: Using the model-agnostic default `max_length` (=20) to control the generation length. We recommend setting `max_new_tokens` to control the maximum length of the generation.\n",
      "  warnings.warn(\n"
     ]
    },
    {
     "data": {
      "application/vnd.jupyter.widget-view+json": {
       "model_id": "b49578f1e230413b82c29fa51e46aec5",
       "version_major": 2,
       "version_minor": 0
      },
      "text/plain": [
       "  0%|          | 0/125 [00:00<?, ?it/s]"
      ]
     },
     "metadata": {},
     "output_type": "display_data"
    },
    {
     "name": "stdout",
     "output_type": "stream",
     "text": [
      "{'eval_loss': 1.7991516590118408, 'eval_bleu': 27.623, 'eval_gen_len': 9.9295, 'eval_meteor': 0.5331, 'eval_runtime': 43.998, 'eval_samples_per_second': 45.457, 'eval_steps_per_second': 2.841, 'epoch': 5.0}\n",
      "{'loss': 1.8619, 'grad_norm': 0.9209056496620178, 'learning_rate': 1.4928e-05, 'epoch': 5.02}\n",
      "{'loss': 1.8405, 'grad_norm': 0.7378142476081848, 'learning_rate': 1.4832000000000001e-05, 'epoch': 5.06}\n",
      "{'loss': 1.8556, 'grad_norm': 0.8596085906028748, 'learning_rate': 1.4736000000000001e-05, 'epoch': 5.09}\n",
      "{'loss': 1.8648, 'grad_norm': 1.0325171947479248, 'learning_rate': 1.464e-05, 'epoch': 5.12}\n",
      "{'loss': 1.8372, 'grad_norm': 0.8716751933097839, 'learning_rate': 1.4544e-05, 'epoch': 5.15}\n",
      "{'loss': 1.8597, 'grad_norm': 1.269997000694275, 'learning_rate': 1.4448e-05, 'epoch': 5.18}\n",
      "{'loss': 1.8161, 'grad_norm': 1.0304938554763794, 'learning_rate': 1.4352e-05, 'epoch': 5.22}\n",
      "{'loss': 1.8403, 'grad_norm': 0.9819675087928772, 'learning_rate': 1.4256e-05, 'epoch': 5.25}\n",
      "{'loss': 1.8139, 'grad_norm': 0.7483749389648438, 'learning_rate': 1.416e-05, 'epoch': 5.28}\n",
      "{'loss': 1.8562, 'grad_norm': 1.162318229675293, 'learning_rate': 1.4064e-05, 'epoch': 5.31}\n",
      "{'loss': 1.8106, 'grad_norm': 0.8594285249710083, 'learning_rate': 1.3968e-05, 'epoch': 5.34}\n",
      "{'loss': 1.8424, 'grad_norm': 0.9493012428283691, 'learning_rate': 1.3872e-05, 'epoch': 5.38}\n",
      "{'loss': 1.8251, 'grad_norm': 0.7597967982292175, 'learning_rate': 1.3776e-05, 'epoch': 5.41}\n",
      "{'loss': 1.8473, 'grad_norm': 0.7387604713439941, 'learning_rate': 1.3680000000000001e-05, 'epoch': 5.44}\n",
      "{'loss': 1.8158, 'grad_norm': 1.0338748693466187, 'learning_rate': 1.3583999999999999e-05, 'epoch': 5.47}\n",
      "{'loss': 1.866, 'grad_norm': 0.870751678943634, 'learning_rate': 1.3488e-05, 'epoch': 5.5}\n",
      "{'loss': 1.8286, 'grad_norm': 0.854284405708313, 'learning_rate': 1.3392000000000002e-05, 'epoch': 5.54}\n",
      "{'loss': 1.8618, 'grad_norm': 1.1322500705718994, 'learning_rate': 1.3296e-05, 'epoch': 5.57}\n",
      "{'loss': 1.8368, 'grad_norm': 0.7231910228729248, 'learning_rate': 1.32e-05, 'epoch': 5.6}\n",
      "{'loss': 1.8421, 'grad_norm': 0.8963232636451721, 'learning_rate': 1.3104e-05, 'epoch': 5.63}\n",
      "{'loss': 1.8403, 'grad_norm': 1.021315574645996, 'learning_rate': 1.3008e-05, 'epoch': 5.66}\n",
      "{'loss': 1.8119, 'grad_norm': 0.7833892703056335, 'learning_rate': 1.2912000000000001e-05, 'epoch': 5.7}\n",
      "{'loss': 1.8479, 'grad_norm': 1.1280722618103027, 'learning_rate': 1.2816e-05, 'epoch': 5.73}\n",
      "{'loss': 1.8231, 'grad_norm': 0.814250648021698, 'learning_rate': 1.272e-05, 'epoch': 5.76}\n",
      "{'loss': 1.833, 'grad_norm': 0.8607335686683655, 'learning_rate': 1.2624e-05, 'epoch': 5.79}\n",
      "{'loss': 1.8362, 'grad_norm': 0.8800710439682007, 'learning_rate': 1.2528000000000001e-05, 'epoch': 5.82}\n",
      "{'loss': 1.8188, 'grad_norm': 0.9024489521980286, 'learning_rate': 1.2432e-05, 'epoch': 5.86}\n",
      "{'loss': 1.8441, 'grad_norm': 0.824195384979248, 'learning_rate': 1.2336e-05, 'epoch': 5.89}\n",
      "{'loss': 1.8326, 'grad_norm': 0.8905903697013855, 'learning_rate': 1.224e-05, 'epoch': 5.92}\n",
      "{'loss': 1.845, 'grad_norm': 0.8605656027793884, 'learning_rate': 1.2144e-05, 'epoch': 5.95}\n",
      "{'loss': 1.8468, 'grad_norm': 0.700431764125824, 'learning_rate': 1.2048e-05, 'epoch': 5.98}\n"
     ]
    },
    {
     "name": "stderr",
     "output_type": "stream",
     "text": [
      "c:\\Users\\IBDA\\.conda\\envs\\ta-jacob\\lib\\site-packages\\transformers\\generation\\utils.py:1141: UserWarning: Using the model-agnostic default `max_length` (=20) to control the generation length. We recommend setting `max_new_tokens` to control the maximum length of the generation.\n",
      "  warnings.warn(\n"
     ]
    },
    {
     "data": {
      "application/vnd.jupyter.widget-view+json": {
       "model_id": "5ebb6f733c5042c18d36c83a8833f234",
       "version_major": 2,
       "version_minor": 0
      },
      "text/plain": [
       "  0%|          | 0/125 [00:00<?, ?it/s]"
      ]
     },
     "metadata": {},
     "output_type": "display_data"
    },
    {
     "name": "stdout",
     "output_type": "stream",
     "text": [
      "{'eval_loss': 1.7907742261886597, 'eval_bleu': 27.6541, 'eval_gen_len': 9.923, 'eval_meteor': 0.5344, 'eval_runtime': 41.0393, 'eval_samples_per_second': 48.734, 'eval_steps_per_second': 3.046, 'epoch': 6.0}\n",
      "{'loss': 1.8146, 'grad_norm': 0.8514174818992615, 'learning_rate': 1.1952e-05, 'epoch': 6.02}\n",
      "{'loss': 1.8473, 'grad_norm': 1.1411563158035278, 'learning_rate': 1.1856e-05, 'epoch': 6.05}\n",
      "{'loss': 1.828, 'grad_norm': 1.0184828042984009, 'learning_rate': 1.1760000000000001e-05, 'epoch': 6.08}\n",
      "{'loss': 1.8109, 'grad_norm': 0.8139066696166992, 'learning_rate': 1.1664e-05, 'epoch': 6.11}\n",
      "{'loss': 1.8187, 'grad_norm': 0.9205781817436218, 'learning_rate': 1.1568e-05, 'epoch': 6.14}\n",
      "{'loss': 1.8219, 'grad_norm': 0.8260648846626282, 'learning_rate': 1.1472000000000001e-05, 'epoch': 6.18}\n",
      "{'loss': 1.7949, 'grad_norm': 0.9213994145393372, 'learning_rate': 1.1376e-05, 'epoch': 6.21}\n",
      "{'loss': 1.8546, 'grad_norm': 0.8212313055992126, 'learning_rate': 1.128e-05, 'epoch': 6.24}\n",
      "{'loss': 1.8155, 'grad_norm': 0.9981979131698608, 'learning_rate': 1.1184000000000002e-05, 'epoch': 6.27}\n",
      "{'loss': 1.7993, 'grad_norm': 1.29998779296875, 'learning_rate': 1.1088e-05, 'epoch': 6.3}\n",
      "{'loss': 1.8181, 'grad_norm': 1.1984604597091675, 'learning_rate': 1.0992e-05, 'epoch': 6.34}\n",
      "{'loss': 1.8303, 'grad_norm': 0.9267475605010986, 'learning_rate': 1.0896e-05, 'epoch': 6.37}\n",
      "{'loss': 1.804, 'grad_norm': 0.9370987415313721, 'learning_rate': 1.08e-05, 'epoch': 6.4}\n",
      "{'loss': 1.8232, 'grad_norm': 0.8623197674751282, 'learning_rate': 1.0704000000000001e-05, 'epoch': 6.43}\n",
      "{'loss': 1.8458, 'grad_norm': 0.9784997701644897, 'learning_rate': 1.0608e-05, 'epoch': 6.46}\n",
      "{'loss': 1.8267, 'grad_norm': 0.958128035068512, 'learning_rate': 1.0512e-05, 'epoch': 6.5}\n",
      "{'loss': 1.8515, 'grad_norm': 1.2007064819335938, 'learning_rate': 1.0416e-05, 'epoch': 6.53}\n",
      "{'loss': 1.8211, 'grad_norm': 0.8051875233650208, 'learning_rate': 1.032e-05, 'epoch': 6.56}\n",
      "{'loss': 1.831, 'grad_norm': 0.8149482607841492, 'learning_rate': 1.0224e-05, 'epoch': 6.59}\n",
      "{'loss': 1.8278, 'grad_norm': 0.8246210813522339, 'learning_rate': 1.0128e-05, 'epoch': 6.62}\n",
      "{'loss': 1.8171, 'grad_norm': 1.0366499423980713, 'learning_rate': 1.0032e-05, 'epoch': 6.66}\n",
      "{'loss': 1.8147, 'grad_norm': 1.0313847064971924, 'learning_rate': 9.936e-06, 'epoch': 6.69}\n",
      "{'loss': 1.8336, 'grad_norm': 1.0830329656600952, 'learning_rate': 9.84e-06, 'epoch': 6.72}\n",
      "{'loss': 1.8168, 'grad_norm': 0.85295569896698, 'learning_rate': 9.744e-06, 'epoch': 6.75}\n",
      "{'loss': 1.8379, 'grad_norm': 0.9915564656257629, 'learning_rate': 9.648e-06, 'epoch': 6.78}\n",
      "{'loss': 1.856, 'grad_norm': 0.773154616355896, 'learning_rate': 9.552000000000001e-06, 'epoch': 6.82}\n",
      "{'loss': 1.81, 'grad_norm': 0.9643984436988831, 'learning_rate': 9.455999999999999e-06, 'epoch': 6.85}\n",
      "{'loss': 1.8297, 'grad_norm': 0.9511158466339111, 'learning_rate': 9.36e-06, 'epoch': 6.88}\n",
      "{'loss': 1.8481, 'grad_norm': 1.2325137853622437, 'learning_rate': 9.264000000000001e-06, 'epoch': 6.91}\n",
      "{'loss': 1.8513, 'grad_norm': 1.0432718992233276, 'learning_rate': 9.168e-06, 'epoch': 6.94}\n",
      "{'loss': 1.7983, 'grad_norm': 0.9425266981124878, 'learning_rate': 9.072e-06, 'epoch': 6.98}\n"
     ]
    },
    {
     "name": "stderr",
     "output_type": "stream",
     "text": [
      "c:\\Users\\IBDA\\.conda\\envs\\ta-jacob\\lib\\site-packages\\transformers\\generation\\utils.py:1141: UserWarning: Using the model-agnostic default `max_length` (=20) to control the generation length. We recommend setting `max_new_tokens` to control the maximum length of the generation.\n",
      "  warnings.warn(\n"
     ]
    },
    {
     "data": {
      "application/vnd.jupyter.widget-view+json": {
       "model_id": "1d8da998ae4541cd8039a15ea291c9b1",
       "version_major": 2,
       "version_minor": 0
      },
      "text/plain": [
       "  0%|          | 0/125 [00:00<?, ?it/s]"
      ]
     },
     "metadata": {},
     "output_type": "display_data"
    },
    {
     "name": "stdout",
     "output_type": "stream",
     "text": [
      "{'eval_loss': 1.7850162982940674, 'eval_bleu': 27.5871, 'eval_gen_len': 9.922, 'eval_meteor': 0.5333, 'eval_runtime': 40.9553, 'eval_samples_per_second': 48.834, 'eval_steps_per_second': 3.052, 'epoch': 7.0}\n",
      "{'loss': 1.8156, 'grad_norm': 0.6921107769012451, 'learning_rate': 8.976e-06, 'epoch': 7.01}\n",
      "{'loss': 1.8391, 'grad_norm': 0.8845078349113464, 'learning_rate': 8.88e-06, 'epoch': 7.04}\n",
      "{'loss': 1.7958, 'grad_norm': 0.8952480554580688, 'learning_rate': 8.784000000000001e-06, 'epoch': 7.07}\n",
      "{'loss': 1.856, 'grad_norm': 1.0162373781204224, 'learning_rate': 8.688e-06, 'epoch': 7.1}\n",
      "{'loss': 1.8034, 'grad_norm': 0.7884867787361145, 'learning_rate': 8.592e-06, 'epoch': 7.14}\n",
      "{'loss': 1.8043, 'grad_norm': 0.7297734618186951, 'learning_rate': 8.496e-06, 'epoch': 7.17}\n",
      "{'loss': 1.7955, 'grad_norm': 2.1291000843048096, 'learning_rate': 8.400000000000001e-06, 'epoch': 7.2}\n",
      "{'loss': 1.8187, 'grad_norm': 0.9097398519515991, 'learning_rate': 8.304e-06, 'epoch': 7.23}\n",
      "{'loss': 1.8036, 'grad_norm': 1.5569794178009033, 'learning_rate': 8.208e-06, 'epoch': 7.26}\n",
      "{'loss': 1.8057, 'grad_norm': 1.2783294916152954, 'learning_rate': 8.112e-06, 'epoch': 7.3}\n",
      "{'loss': 1.8243, 'grad_norm': 1.1862149238586426, 'learning_rate': 8.016e-06, 'epoch': 7.33}\n",
      "{'loss': 1.8173, 'grad_norm': 0.8338366150856018, 'learning_rate': 7.92e-06, 'epoch': 7.36}\n",
      "{'loss': 1.8026, 'grad_norm': 0.7698438167572021, 'learning_rate': 7.824e-06, 'epoch': 7.39}\n",
      "{'loss': 1.8215, 'grad_norm': 0.9210436940193176, 'learning_rate': 7.728e-06, 'epoch': 7.42}\n",
      "{'loss': 1.8039, 'grad_norm': 0.9848451018333435, 'learning_rate': 7.632e-06, 'epoch': 7.46}\n",
      "{'loss': 1.7843, 'grad_norm': 0.7159269452095032, 'learning_rate': 7.5359999999999995e-06, 'epoch': 7.49}\n",
      "{'loss': 1.826, 'grad_norm': 0.8818280100822449, 'learning_rate': 7.44e-06, 'epoch': 7.52}\n",
      "{'loss': 1.8312, 'grad_norm': 0.812390148639679, 'learning_rate': 7.3439999999999995e-06, 'epoch': 7.55}\n",
      "{'loss': 1.8269, 'grad_norm': 1.018326759338379, 'learning_rate': 7.248000000000001e-06, 'epoch': 7.58}\n",
      "{'loss': 1.826, 'grad_norm': 1.6827391386032104, 'learning_rate': 7.152e-06, 'epoch': 7.62}\n",
      "{'loss': 1.83, 'grad_norm': 1.037876009941101, 'learning_rate': 7.056e-06, 'epoch': 7.65}\n",
      "{'loss': 1.8388, 'grad_norm': 0.9755151867866516, 'learning_rate': 6.96e-06, 'epoch': 7.68}\n",
      "{'loss': 1.8156, 'grad_norm': 0.989862322807312, 'learning_rate': 6.864000000000001e-06, 'epoch': 7.71}\n",
      "{'loss': 1.8079, 'grad_norm': 0.8977921605110168, 'learning_rate': 6.768e-06, 'epoch': 7.74}\n",
      "{'loss': 1.8186, 'grad_norm': 0.9692510366439819, 'learning_rate': 6.672e-06, 'epoch': 7.78}\n",
      "{'loss': 1.8137, 'grad_norm': 0.9956038594245911, 'learning_rate': 6.576e-06, 'epoch': 7.81}\n",
      "{'loss': 1.798, 'grad_norm': 0.8484294414520264, 'learning_rate': 6.48e-06, 'epoch': 7.84}\n",
      "{'loss': 1.8028, 'grad_norm': 1.2968266010284424, 'learning_rate': 6.384e-06, 'epoch': 7.87}\n",
      "{'loss': 1.8352, 'grad_norm': 0.7823339104652405, 'learning_rate': 6.288000000000001e-06, 'epoch': 7.9}\n",
      "{'loss': 1.8219, 'grad_norm': 1.154686450958252, 'learning_rate': 6.192e-06, 'epoch': 7.94}\n",
      "{'loss': 1.8198, 'grad_norm': 1.2940828800201416, 'learning_rate': 6.096e-06, 'epoch': 7.97}\n",
      "{'loss': 1.8192, 'grad_norm': 0.8628633618354797, 'learning_rate': 6e-06, 'epoch': 8.0}\n"
     ]
    },
    {
     "name": "stderr",
     "output_type": "stream",
     "text": [
      "c:\\Users\\IBDA\\.conda\\envs\\ta-jacob\\lib\\site-packages\\transformers\\generation\\utils.py:1141: UserWarning: Using the model-agnostic default `max_length` (=20) to control the generation length. We recommend setting `max_new_tokens` to control the maximum length of the generation.\n",
      "  warnings.warn(\n"
     ]
    },
    {
     "data": {
      "application/vnd.jupyter.widget-view+json": {
       "model_id": "3ab53a43d43c4ac1ac045a4020829d7e",
       "version_major": 2,
       "version_minor": 0
      },
      "text/plain": [
       "  0%|          | 0/125 [00:00<?, ?it/s]"
      ]
     },
     "metadata": {},
     "output_type": "display_data"
    },
    {
     "name": "stdout",
     "output_type": "stream",
     "text": [
      "{'eval_loss': 1.7816345691680908, 'eval_bleu': 27.5683, 'eval_gen_len': 9.92, 'eval_meteor': 0.5334, 'eval_runtime': 40.7532, 'eval_samples_per_second': 49.076, 'eval_steps_per_second': 3.067, 'epoch': 8.0}\n",
      "{'loss': 1.8106, 'grad_norm': 1.1677746772766113, 'learning_rate': 5.9040000000000006e-06, 'epoch': 8.03}\n",
      "{'loss': 1.82, 'grad_norm': 0.910309374332428, 'learning_rate': 5.808e-06, 'epoch': 8.06}\n",
      "{'loss': 1.803, 'grad_norm': 0.8178417682647705, 'learning_rate': 5.7120000000000005e-06, 'epoch': 8.1}\n",
      "{'loss': 1.8204, 'grad_norm': 0.8513525724411011, 'learning_rate': 5.616e-06, 'epoch': 8.13}\n",
      "{'loss': 1.8135, 'grad_norm': 0.8154228925704956, 'learning_rate': 5.52e-06, 'epoch': 8.16}\n",
      "{'loss': 1.8056, 'grad_norm': 0.690936803817749, 'learning_rate': 5.424e-06, 'epoch': 8.19}\n",
      "{'loss': 1.8249, 'grad_norm': 0.6415383815765381, 'learning_rate': 5.3280000000000005e-06, 'epoch': 8.22}\n",
      "{'loss': 1.8166, 'grad_norm': 1.2127318382263184, 'learning_rate': 5.232e-06, 'epoch': 8.26}\n",
      "{'loss': 1.8368, 'grad_norm': 0.958565890789032, 'learning_rate': 5.136e-06, 'epoch': 8.29}\n",
      "{'loss': 1.8203, 'grad_norm': 1.1642746925354004, 'learning_rate': 5.04e-06, 'epoch': 8.32}\n",
      "{'loss': 1.8295, 'grad_norm': 1.1158168315887451, 'learning_rate': 4.9440000000000004e-06, 'epoch': 8.35}\n",
      "{'loss': 1.8, 'grad_norm': 1.224574327468872, 'learning_rate': 4.848e-06, 'epoch': 8.38}\n",
      "{'loss': 1.786, 'grad_norm': 0.8762596249580383, 'learning_rate': 4.752e-06, 'epoch': 8.42}\n",
      "{'loss': 1.8151, 'grad_norm': 0.8875092267990112, 'learning_rate': 4.656e-06, 'epoch': 8.45}\n",
      "{'loss': 1.8066, 'grad_norm': 0.8756760954856873, 'learning_rate': 4.56e-06, 'epoch': 8.48}\n",
      "{'loss': 1.7948, 'grad_norm': 0.8977508544921875, 'learning_rate': 4.464e-06, 'epoch': 8.51}\n",
      "{'loss': 1.8307, 'grad_norm': 1.0793519020080566, 'learning_rate': 4.368e-06, 'epoch': 8.54}\n",
      "{'loss': 1.7983, 'grad_norm': 0.8000980615615845, 'learning_rate': 4.272e-06, 'epoch': 8.58}\n",
      "{'loss': 1.8151, 'grad_norm': 0.8303412199020386, 'learning_rate': 4.1759999999999995e-06, 'epoch': 8.61}\n",
      "{'loss': 1.8045, 'grad_norm': 1.1440342664718628, 'learning_rate': 4.080000000000001e-06, 'epoch': 8.64}\n",
      "{'loss': 1.8194, 'grad_norm': 1.1148115396499634, 'learning_rate': 3.984e-06, 'epoch': 8.67}\n",
      "{'loss': 1.8139, 'grad_norm': 1.0402292013168335, 'learning_rate': 3.888e-06, 'epoch': 8.7}\n",
      "{'loss': 1.7866, 'grad_norm': 0.9664483666419983, 'learning_rate': 3.7920000000000003e-06, 'epoch': 8.74}\n",
      "{'loss': 1.8004, 'grad_norm': 0.9386738538742065, 'learning_rate': 3.6960000000000003e-06, 'epoch': 8.77}\n",
      "{'loss': 1.8016, 'grad_norm': 1.0857428312301636, 'learning_rate': 3.6e-06, 'epoch': 8.8}\n",
      "{'loss': 1.7925, 'grad_norm': 0.7859987020492554, 'learning_rate': 3.5040000000000002e-06, 'epoch': 8.83}\n",
      "{'loss': 1.7939, 'grad_norm': 1.0143651962280273, 'learning_rate': 3.4080000000000002e-06, 'epoch': 8.86}\n",
      "{'loss': 1.7963, 'grad_norm': 1.0070135593414307, 'learning_rate': 3.3120000000000002e-06, 'epoch': 8.9}\n",
      "{'loss': 1.8293, 'grad_norm': 0.9023335576057434, 'learning_rate': 3.216e-06, 'epoch': 8.93}\n",
      "{'loss': 1.8203, 'grad_norm': 1.0683637857437134, 'learning_rate': 3.1199999999999998e-06, 'epoch': 8.96}\n",
      "{'loss': 1.8303, 'grad_norm': 0.861187756061554, 'learning_rate': 3.024e-06, 'epoch': 8.99}\n"
     ]
    },
    {
     "name": "stderr",
     "output_type": "stream",
     "text": [
      "c:\\Users\\IBDA\\.conda\\envs\\ta-jacob\\lib\\site-packages\\transformers\\generation\\utils.py:1141: UserWarning: Using the model-agnostic default `max_length` (=20) to control the generation length. We recommend setting `max_new_tokens` to control the maximum length of the generation.\n",
      "  warnings.warn(\n"
     ]
    },
    {
     "data": {
      "application/vnd.jupyter.widget-view+json": {
       "model_id": "4f04975c956144b2ac7a6fe21d740fe6",
       "version_major": 2,
       "version_minor": 0
      },
      "text/plain": [
       "  0%|          | 0/125 [00:00<?, ?it/s]"
      ]
     },
     "metadata": {},
     "output_type": "display_data"
    },
    {
     "name": "stdout",
     "output_type": "stream",
     "text": [
      "{'eval_loss': 1.7797763347625732, 'eval_bleu': 27.6195, 'eval_gen_len': 9.9175, 'eval_meteor': 0.5338, 'eval_runtime': 40.8225, 'eval_samples_per_second': 48.993, 'eval_steps_per_second': 3.062, 'epoch': 9.0}\n",
      "{'loss': 1.8305, 'grad_norm': 1.1208795309066772, 'learning_rate': 2.928e-06, 'epoch': 9.02}\n",
      "{'loss': 1.7916, 'grad_norm': 1.0634257793426514, 'learning_rate': 2.832e-06, 'epoch': 9.06}\n",
      "{'loss': 1.8182, 'grad_norm': 0.9172326922416687, 'learning_rate': 2.736e-06, 'epoch': 9.09}\n",
      "{'loss': 1.8042, 'grad_norm': 1.0225638151168823, 'learning_rate': 2.6399999999999997e-06, 'epoch': 9.12}\n",
      "{'loss': 1.8106, 'grad_norm': 1.1463745832443237, 'learning_rate': 2.544e-06, 'epoch': 9.15}\n",
      "{'loss': 1.7989, 'grad_norm': 0.8622368574142456, 'learning_rate': 2.448e-06, 'epoch': 9.18}\n",
      "{'loss': 1.769, 'grad_norm': 0.9318895936012268, 'learning_rate': 2.352e-06, 'epoch': 9.22}\n",
      "{'loss': 1.8086, 'grad_norm': 0.9807505011558533, 'learning_rate': 2.256e-06, 'epoch': 9.25}\n",
      "{'loss': 1.7955, 'grad_norm': 0.8133205771446228, 'learning_rate': 2.16e-06, 'epoch': 9.28}\n",
      "{'loss': 1.8272, 'grad_norm': 0.9411153793334961, 'learning_rate': 2.064e-06, 'epoch': 9.31}\n",
      "{'loss': 1.8123, 'grad_norm': 0.9149726033210754, 'learning_rate': 1.968e-06, 'epoch': 9.34}\n",
      "{'loss': 1.7727, 'grad_norm': 0.8598297238349915, 'learning_rate': 1.872e-06, 'epoch': 9.38}\n",
      "{'loss': 1.8522, 'grad_norm': 1.3406648635864258, 'learning_rate': 1.776e-06, 'epoch': 9.41}\n",
      "{'loss': 1.8097, 'grad_norm': 1.363954782485962, 'learning_rate': 1.68e-06, 'epoch': 9.44}\n",
      "{'loss': 1.8218, 'grad_norm': 0.7876193523406982, 'learning_rate': 1.584e-06, 'epoch': 9.47}\n",
      "{'loss': 1.7996, 'grad_norm': 1.2078479528427124, 'learning_rate': 1.488e-06, 'epoch': 9.5}\n",
      "{'loss': 1.7881, 'grad_norm': 0.8723725080490112, 'learning_rate': 1.392e-06, 'epoch': 9.54}\n",
      "{'loss': 1.82, 'grad_norm': 0.8900202512741089, 'learning_rate': 1.2960000000000002e-06, 'epoch': 9.57}\n",
      "{'loss': 1.7925, 'grad_norm': 1.0849874019622803, 'learning_rate': 1.2000000000000002e-06, 'epoch': 9.6}\n",
      "{'loss': 1.8114, 'grad_norm': 1.0170929431915283, 'learning_rate': 1.104e-06, 'epoch': 9.63}\n",
      "{'loss': 1.8126, 'grad_norm': 0.9415547847747803, 'learning_rate': 1.008e-06, 'epoch': 9.66}\n",
      "{'loss': 1.7937, 'grad_norm': 0.7052834033966064, 'learning_rate': 9.12e-07, 'epoch': 9.7}\n",
      "{'loss': 1.7828, 'grad_norm': 1.3735086917877197, 'learning_rate': 8.16e-07, 'epoch': 9.73}\n",
      "{'loss': 1.809, 'grad_norm': 0.9804306626319885, 'learning_rate': 7.2e-07, 'epoch': 9.76}\n",
      "{'loss': 1.8079, 'grad_norm': 1.0103520154953003, 'learning_rate': 6.24e-07, 'epoch': 9.79}\n",
      "{'loss': 1.7997, 'grad_norm': 0.8237139582633972, 'learning_rate': 5.280000000000001e-07, 'epoch': 9.82}\n",
      "{'loss': 1.8055, 'grad_norm': 0.9450037479400635, 'learning_rate': 4.32e-07, 'epoch': 9.86}\n",
      "{'loss': 1.8034, 'grad_norm': 0.8983913660049438, 'learning_rate': 3.36e-07, 'epoch': 9.89}\n",
      "{'loss': 1.8054, 'grad_norm': 0.969809889793396, 'learning_rate': 2.4000000000000003e-07, 'epoch': 9.92}\n",
      "{'loss': 1.8046, 'grad_norm': 0.9083198308944702, 'learning_rate': 1.44e-07, 'epoch': 9.95}\n",
      "{'loss': 1.8018, 'grad_norm': 0.8503327369689941, 'learning_rate': 4.8000000000000006e-08, 'epoch': 9.98}\n"
     ]
    },
    {
     "name": "stderr",
     "output_type": "stream",
     "text": [
      "c:\\Users\\IBDA\\.conda\\envs\\ta-jacob\\lib\\site-packages\\transformers\\generation\\utils.py:1141: UserWarning: Using the model-agnostic default `max_length` (=20) to control the generation length. We recommend setting `max_new_tokens` to control the maximum length of the generation.\n",
      "  warnings.warn(\n"
     ]
    },
    {
     "data": {
      "application/vnd.jupyter.widget-view+json": {
       "model_id": "36a15ad1b0ce49ebb2abca41d0e1b969",
       "version_major": 2,
       "version_minor": 0
      },
      "text/plain": [
       "  0%|          | 0/125 [00:00<?, ?it/s]"
      ]
     },
     "metadata": {},
     "output_type": "display_data"
    },
    {
     "name": "stdout",
     "output_type": "stream",
     "text": [
      "{'eval_loss': 1.779430866241455, 'eval_bleu': 27.6262, 'eval_gen_len': 9.9235, 'eval_meteor': 0.534, 'eval_runtime': 41.2779, 'eval_samples_per_second': 48.452, 'eval_steps_per_second': 3.028, 'epoch': 10.0}\n"
     ]
    },
    {
     "name": "stderr",
     "output_type": "stream",
     "text": [
      "There were missing keys in the checkpoint model loaded: ['encoder.embed_tokens.weight', 'decoder.embed_tokens.weight'].\n"
     ]
    },
    {
     "name": "stdout",
     "output_type": "stream",
     "text": [
      "{'train_runtime': 27214.609, 'train_samples_per_second': 183.725, 'train_steps_per_second': 5.741, 'train_loss': 1.87735044765625, 'epoch': 10.0}\n"
     ]
    },
    {
     "data": {
      "text/plain": [
       "TrainOutput(global_step=156250, training_loss=1.87735044765625, metrics={'train_runtime': 27214.609, 'train_samples_per_second': 183.725, 'train_steps_per_second': 5.741, 'total_flos': 2.3667186282518938e+17, 'train_loss': 1.87735044765625, 'epoch': 10.0})"
      ]
     },
     "execution_count": 11,
     "metadata": {},
     "output_type": "execute_result"
    }
   ],
   "source": [
    "trainer = Seq2SeqTrainer(\n",
    "   model,\n",
    "   args,\n",
    "   train_dataset=small_train_dataset,\n",
    "   eval_dataset=small_eval_dataset,\n",
    "   data_collator=data_collator,\n",
    "   tokenizer=tokenizer,\n",
    "   compute_metrics=compute_metrics                                                                                                                 \n",
    ")\n",
    "trainer.train()"
   ]
  },
  {
   "cell_type": "code",
   "execution_count": 12,
   "metadata": {},
   "outputs": [],
   "source": [
    "trainer.save_model('model/flan-t5-finetuned-en-to-id')"
   ]
  },
  {
   "cell_type": "code",
   "execution_count": 13,
   "metadata": {},
   "outputs": [],
   "source": [
    "import pandas as pd\n",
    "log_history = pd.DataFrame(trainer.state.log_history)\n",
    "bleu_log = log_history[\"eval_bleu\"].dropna().to_list()\n",
    "meteor_log = log_history[\"eval_meteor\"].dropna().to_list()\n",
    "eval_log = log_history[\"eval_loss\"].dropna().to_list()"
   ]
  },
  {
   "cell_type": "code",
   "execution_count": 14,
   "metadata": {},
   "outputs": [
    {
     "data": {
      "image/png": "[encoded data removed]",
      "text/plain": [
       "<Figure size 2000x1000 with 4 Axes>"
      ]
     },
     "metadata": {},
     "output_type": "display_data"
    }
   ],
   "source": [
    "import matplotlib.pyplot as plt\n",
    "\n",
    "fig, ax = plt.subplots(2, 2, figsize=(20,10))\n",
    "plt.subplot(2, 2, 1)\n",
    "plt.plot(range(len(bleu_log)), bleu_log, label='BLEU Score')\n",
    "plt.title(\"BLEU Score\")\n",
    "plt.xlabel('Epoch')\n",
    "plt.ylabel('Score')\n",
    "\n",
    "plt.subplot(2, 2, 2)\n",
    "plt.plot(range(len(meteor_log)), meteor_log, label='METEOR Score')\n",
    "plt.title(\"METEOR Score\")\n",
    "plt.xlabel('Epoch')\n",
    "plt.ylabel('Score')\n",
    "\n",
    "plt.subplot(2, 2, 3)\n",
    "plt.plot(range(len(eval_log)), eval_log, label='Generation Length')\n",
    "plt.title(\"Validation Loss\")\n",
    "plt.xlabel('Epoch')\n",
    "plt.ylabel('Score')\n",
    "\n",
    "plt.legend()\n",
    "plt.show()"
   ]
  },
  {
   "cell_type": "code",
   "execution_count": 15,
   "metadata": {},
   "outputs": [],
   "source": [
    "import csv\n",
    "rows = []\n",
    "for i in range(len(bleu_log)):\n",
    "    row = {\n",
    "        'Epoch': i+1,\n",
    "        'BLEU': bleu_log[i],\n",
    "        'METEOR': meteor_log[i],\n",
    "        'validation_loss': eval_log[i],\n",
    "    }\n",
    "    rows.append(row)\n",
    "\n",
    "# Define the fieldnames for the CSV file\n",
    "fieldnames = ['Epoch', 'BLEU', 'METEOR', 'validation_loss']\n",
    "\n",
    "# Write the rows to a CSV file\n",
    "with open('T5.csv', 'w', newline='') as csvfile:\n",
    "    writer = csv.DictWriter(csvfile, fieldnames=fieldnames)\n",
    "    writer.writeheader()\n",
    "    for row in rows:\n",
    "        writer.writerow(row)"
   ]
  }
 ],
 "metadata": {
  "kernelspec": {
   "display_name": "venv",
   "language": "python",
   "name": "python3"
  },
  "language_info": {
   "codemirror_mode": {
    "name": "ipython",
    "version": 3
   },
   "file_extension": ".py",
   "mimetype": "text/x-python",
   "name": "python",
   "nbconvert_exporter": "python",
   "pygments_lexer": "ipython3",
   "version": "3.9.5"
  }
 },
 "nbformat": 4,
 "nbformat_minor": 2
}
