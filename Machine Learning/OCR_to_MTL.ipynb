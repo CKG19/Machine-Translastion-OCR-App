{
 "cells": [
  {
   "cell_type": "code",
   "execution_count": 2,
   "metadata": {},
   "outputs": [],
   "source": [
    "from transformers import MarianMTModel, MarianTokenizer\n",
    "from transformers import MBart50TokenizerFast, MBartForConditionalGeneration\n",
    "from transformers import T5Tokenizer, T5ForConditionalGeneration\n",
    "from transformers import AutoTokenizer\n",
    "from nltk.tokenize import sent_tokenize\n",
    "from nltk.tokenize import LineTokenizer\n",
    "import math\n",
    "import torch\n"
   ]
  },
  {
   "cell_type": "code",
   "execution_count": null,
   "metadata": {},
   "outputs": [],
   "source": [
    "model_path = 'model\\opus-mt-en-id-finetuned-en-to-id'\n",
    "tokenizer = MarianTokenizer.from_pretrained(model_path)\n",
    "model = MarianMTModel.from_pretrained(model_path)\n",
    "model = model.cuda()\n",
    "\n",
    "lt = LineTokenizer()\n",
    "batch_size = 8\n",
    "input_text=\"\"\"In the current era of globalization and technological advances, Indonesian students have wide access to various literature and learning materials in Indonesian and foreign languages. However, even though there are many resources available, many students still have difficulty understanding the material. One proof of this is Indonesia's ranking in English language skills according to the EF English Proficiency Index (EF EPI) in 2023, which is ranked 79 out of 113 [1]. Obstacles in understanding learning material in foreign languages, especially English, are becoming increasingly important considering that this language is a global language that is widely used in various contexts, including in science, technology and business. Therefore, it is important for Indonesian students to have strong skills in English. In an effort to improve the ability to understand foreign languages, especially English, various efforts have been made by the government and educational institutions. However, there is still a gap between the efforts that have been made and the results achieved, as reflected in Indonesia's ranking in the EF EPI. This shows that other approaches are needed to increase accessibility and understanding of learning materials written in foreign languages for Indonesian students. At the same time, learning conditions have changed significantly with the adoption of digital technology and the internet. In this context, we want to develop a translation application that uses Optical Character Recognition (OCR) and Machine Translation. This application can increase accessibility to foreign language learning materials, this translation application not only helps students in formal education environments, but can also be a useful tool for individuals who want to learn from using learning materials or literature in a foreign language. The development of this translation application can also contribute to developing the skills of today's students. Proficiency in a foreign language is an important skill for both academic and competitive work environments. Therefore, developing this translation application can help students who have difficulty understanding foreign languages.\"\"\"\n",
    "\n",
    "paragraphs = lt.tokenize(input_text)\n",
    "translated_paragraphs = []\n",
    "\n",
    "for paragraph in paragraphs:\n",
    "    sentences = sent_tokenize(paragraph)\n",
    "    batches = math.ceil(len(sentences) / batch_size)\n",
    "    translated = []\n",
    "    for i in range(batches):\n",
    "        sent_batch = sentences[i*batch_size:(i+1)*batch_size]\n",
    "        print(sent_batch)\n",
    "        print(len(sent_batch))\n",
    "        model_inputs = tokenizer(sent_batch, return_tensors=\"pt\", padding=True, truncation=True, max_length=500).to('cuda')\n",
    "        translated_batch = model.generate(**model_inputs)\n",
    "        translated += translated_batch\n",
    "    translated = tokenizer.batch_decode(translated, skip_special_tokens=True)\n",
    "    translated_paragraphs += [\" \".join(translated)]\n",
    "\n",
    "translated_text = \"\\n\".join(translated_paragraphs)"
   ]
  },
  {
   "cell_type": "code",
   "execution_count": null,
   "metadata": {},
   "outputs": [],
   "source": [
    "model_path = '..\\Machine Learning\\model\\mbart-large-50-one-to-many-mmt-finetuned-en-to-id'\n",
    "tokenizer = MBart50TokenizerFast.from_pretrained(model_path,src_lang=\"en_XX\")\n",
    "model = MBartForConditionalGeneration.from_pretrained(model_path)\n",
    "model = model.cuda()\n",
    "\n",
    "lt = LineTokenizer()\n",
    "batch_size = 8\n",
    "input_text=\"\"\"In the current era of globalization and technological advances, Indonesian students have wide access to various literature and learning materials in Indonesian and foreign languages. However, even though there are many resources available, many students still have difficulty understanding the material. One proof of this is Indonesia's ranking in English language skills according to the EF English Proficiency Index (EF EPI) in 2023, which is ranked 79 out of 113 [1]. Obstacles in understanding learning material in foreign languages, especially English, are becoming increasingly important considering that this language is a global language that is widely used in various contexts, including in science, technology and business. Therefore, it is important for Indonesian students to have strong skills in English. In an effort to improve the ability to understand foreign languages, especially English, various efforts have been made by the government and educational institutions. However, there is still a gap between the efforts that have been made and the results achieved, as reflected in Indonesia's ranking in the EF EPI. This shows that other approaches are needed to increase accessibility and understanding of learning materials written in foreign languages for Indonesian students. At the same time, learning conditions have changed significantly with the adoption of digital technology and the internet. In this context, we want to develop a translation application that uses Optical Character Recognition (OCR) and Machine Translation. This application can increase accessibility to foreign language learning materials, this translation application not only helps students in formal education environments, but can also be a useful tool for individuals who want to learn from using learning materials or literature in a foreign language. The development of this translation application can also contribute to developing the skills of today's students. Proficiency in a foreign language is an important skill for both academic and competitive work environments. Therefore, developing this translation application can help students who have difficulty understanding foreign languages.\"\"\"\n",
    "\n",
    "paragraphs = lt.tokenize(input_text)\n",
    "translated_paragraphs = []\n",
    "\n",
    "for paragraph in paragraphs:\n",
    "    sentences = sent_tokenize(paragraph)\n",
    "    batches = math.ceil(len(sentences) / batch_size)\n",
    "    translated = []\n",
    "    for i in range(batches):\n",
    "        sent_batch = sentences[i*batch_size:(i+1)*batch_size]\n",
    "        model_inputs = tokenizer(sent_batch, return_tensors=\"pt\", padding=True, truncation=True, max_length=500).to('cuda')\n",
    "        translated_batch = model.generate(**model_inputs, forced_bos_token_id=tokenizer.lang_code_to_id[\"id_ID\"])\n",
    "        translated += translated_batch\n",
    "    translated = tokenizer.batch_decode(translated, skip_special_tokens=True)\n",
    "    translated_paragraphs += [\" \".join(translated)]\n",
    "\n",
    "translated_text = \"\\n\".join(translated_paragraphs)"
   ]
  }
 ],
 "metadata": {
  "kernelspec": {
   "display_name": "venv",
   "language": "python",
   "name": "python3"
  },
  "language_info": {
   "codemirror_mode": {
    "name": "ipython",
    "version": 3
   },
   "file_extension": ".py",
   "mimetype": "text/x-python",
   "name": "python",
   "nbconvert_exporter": "python",
   "pygments_lexer": "ipython3",
   "version": "3.9.5"
  }
 },
 "nbformat": 4,
 "nbformat_minor": 2
}
